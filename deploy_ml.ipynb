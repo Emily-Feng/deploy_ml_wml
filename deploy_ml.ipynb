{
 "cells": [
  {
   "cell_type": "markdown",
   "id": "8dce31d5",
   "metadata": {},
   "source": [
    "# Introduction\n",
    "\n",
    "This tutorial will introduce you to some basic methods for deploying your machine learning model to production for your clients and other parts of the project to access it. Deploying code to production is a huge part of data science, and there are currently many ways of doing it with different trade-offs. The most commnon methods for companies are now cloud computing servcies. Amazon AWS, Google Clouds, IBM Watson Machine Learning service, and countless other companies are providing such services for organizations ranging from small businesss and non-profits, to industry giants such as walmarts, not counting mass internal usage. "
   ]
  },
  {
   "cell_type": "markdown",
   "id": "e2029a22",
   "metadata": {},
   "source": [
    "## Tutorial content\n",
    "\n",
    "In this tutorial, we will demonstrate how to deploy a locally trained model to Watson Machine Learning service, specifically using [scikit-learn](https://scikit-learn.org/stable/modules/classes.html), and [ibm-watson-machine-learning](https://pypi.python.org/pypi/ibm-watson-machine-learning). We will also introduce commands that explore the data, train the model from a pre-defined model in scikit-learn, regularize the model, deploying the model, scoring and updating, and finally re-deploy the model. "
   ]
  },
  {
   "cell_type": "markdown",
   "id": "33787152",
   "metadata": {},
   "source": [
    "We will be using data that is part of the sample data in scikit-learn from the MNIST dataset and with the data we will train a model that recognize hand-written digits 0-9. There are many open source libraries that provides data for hand-written digits, MNIST is one of the most widely used dataset that contains 60,000 handwritten digits for training a machine learning model and 10,000 handwritten digits for testing models. MNIST was established since 1998 and has been the benchmark for classification purposed machine learning models. "
   ]
  },
  {
   "cell_type": "markdown",
   "id": "18dd16c2",
   "metadata": {},
   "source": [
    "Here's an outline of what we will cover in the tutorial:\n",
    "- Build and train a model.\n",
    "- Save a pipeline as a model.\n",
    "- Deploy the model.\n",
    "- Test the deployed model."
   ]
  },
  {
   "cell_type": "markdown",
   "id": "04e0eaff",
   "metadata": {},
   "source": [
    "# Installing the libraries\n",
    "\n",
    "Before diving into machine learning, we will have to install the following libraries and create an account on [IBM Cloud](https://cloud.ibm.com/registration). We will also need to create a Watson Machine Learning Instance and obtain an API key. However, since we are focusing more on deployment part of the process, we will be using pre-obtained account, API key, and deployment space in this tutorial.\n",
    "\n",
    "At the same time, run the following block to install IBM Wtson Machine Learning python SDK and other necessary libraries."
   ]
  },
  {
   "cell_type": "code",
   "execution_count": 33,
   "id": "f6644465",
   "metadata": {},
   "outputs": [
    {
     "name": "stdout",
     "output_type": "stream",
     "text": [
      "Requirement already satisfied: ibm-watson-machine-learning in /Users/emilyfeng/opt/anaconda3/lib/python3.9/site-packages (1.0.204)\n",
      "Requirement already satisfied: urllib3 in /Users/emilyfeng/opt/anaconda3/lib/python3.9/site-packages (from ibm-watson-machine-learning) (1.26.7)\n",
      "Requirement already satisfied: lomond in /Users/emilyfeng/opt/anaconda3/lib/python3.9/site-packages (from ibm-watson-machine-learning) (0.3.3)\n",
      "Requirement already satisfied: packaging in /Users/emilyfeng/opt/anaconda3/lib/python3.9/site-packages (from ibm-watson-machine-learning) (21.0)\n",
      "Requirement already satisfied: pandas<1.4.0,>=0.24.2 in /Users/emilyfeng/opt/anaconda3/lib/python3.9/site-packages (from ibm-watson-machine-learning) (1.3.4)\n",
      "Requirement already satisfied: ibm-cos-sdk==2.11.* in /Users/emilyfeng/opt/anaconda3/lib/python3.9/site-packages (from ibm-watson-machine-learning) (2.11.0)\n",
      "Requirement already satisfied: requests in /Users/emilyfeng/opt/anaconda3/lib/python3.9/site-packages (from ibm-watson-machine-learning) (2.26.0)\n",
      "Requirement already satisfied: tabulate in /Users/emilyfeng/opt/anaconda3/lib/python3.9/site-packages (from ibm-watson-machine-learning) (0.8.9)\n",
      "Requirement already satisfied: importlib-metadata in /Users/emilyfeng/opt/anaconda3/lib/python3.9/site-packages (from ibm-watson-machine-learning) (4.8.1)\n",
      "Requirement already satisfied: certifi in /Users/emilyfeng/opt/anaconda3/lib/python3.9/site-packages (from ibm-watson-machine-learning) (2021.10.8)\n",
      "Requirement already satisfied: ibm-cos-sdk-core==2.11.0 in /Users/emilyfeng/opt/anaconda3/lib/python3.9/site-packages (from ibm-cos-sdk==2.11.*->ibm-watson-machine-learning) (2.11.0)\n",
      "Requirement already satisfied: ibm-cos-sdk-s3transfer==2.11.0 in /Users/emilyfeng/opt/anaconda3/lib/python3.9/site-packages (from ibm-cos-sdk==2.11.*->ibm-watson-machine-learning) (2.11.0)\n",
      "Requirement already satisfied: jmespath<1.0.0,>=0.7.1 in /Users/emilyfeng/opt/anaconda3/lib/python3.9/site-packages (from ibm-cos-sdk==2.11.*->ibm-watson-machine-learning) (0.10.0)\n",
      "Requirement already satisfied: python-dateutil<3.0.0,>=2.1 in /Users/emilyfeng/opt/anaconda3/lib/python3.9/site-packages (from ibm-cos-sdk-core==2.11.0->ibm-cos-sdk==2.11.*->ibm-watson-machine-learning) (2.8.2)\n",
      "Requirement already satisfied: pytz>=2017.3 in /Users/emilyfeng/opt/anaconda3/lib/python3.9/site-packages (from pandas<1.4.0,>=0.24.2->ibm-watson-machine-learning) (2021.3)\n",
      "Requirement already satisfied: numpy>=1.17.3 in /Users/emilyfeng/opt/anaconda3/lib/python3.9/site-packages (from pandas<1.4.0,>=0.24.2->ibm-watson-machine-learning) (1.20.3)\n",
      "Requirement already satisfied: six>=1.5 in /Users/emilyfeng/opt/anaconda3/lib/python3.9/site-packages (from python-dateutil<3.0.0,>=2.1->ibm-cos-sdk-core==2.11.0->ibm-cos-sdk==2.11.*->ibm-watson-machine-learning) (1.16.0)\n",
      "Requirement already satisfied: charset-normalizer~=2.0.0 in /Users/emilyfeng/opt/anaconda3/lib/python3.9/site-packages (from requests->ibm-watson-machine-learning) (2.0.4)\n",
      "Requirement already satisfied: idna<4,>=2.5 in /Users/emilyfeng/opt/anaconda3/lib/python3.9/site-packages (from requests->ibm-watson-machine-learning) (3.2)\n",
      "Requirement already satisfied: zipp>=0.5 in /Users/emilyfeng/opt/anaconda3/lib/python3.9/site-packages (from importlib-metadata->ibm-watson-machine-learning) (3.6.0)\n",
      "Requirement already satisfied: pyparsing>=2.0.2 in /Users/emilyfeng/opt/anaconda3/lib/python3.9/site-packages (from packaging->ibm-watson-machine-learning) (3.0.4)\n"
     ]
    }
   ],
   "source": [
    "!pip install ibm-watson-machine-learning\n",
    "import sklearn\n",
    "from sklearn import datasets\n",
    "from sklearn.pipeline import Pipeline\n",
    "from sklearn import preprocessing\n",
    "from sklearn.naive_bayes import GaussianNB\n",
    "from sklearn import metrics\n",
    "import json\n",
    "import time\n",
    "import pandas as pd\n",
    "from ibm_watson_machine_learning import APIClient\n",
    "from ibm_watson_machine_learning.helpers import DataConnection, S3Location"
   ]
  },
  {
   "cell_type": "markdown",
   "id": "d42222fc",
   "metadata": {},
   "source": [
    "# Setup\n",
    "\n",
    "Now with necessary packages install, we need to build connections and authenticate the Watson Machine Learning service on IBM Cloud Pack for Data. As stated above, this tutorial will use the account I pre-registered with IBM and the API keys and other credentials. Please do not distribute this information as it will impact the student created the tutorial negatively. "
   ]
  },
  {
   "cell_type": "markdown",
   "id": "6fd56f1e",
   "metadata": {},
   "source": [
    "Now with these information we will supply as credentials."
   ]
  },
  {
   "cell_type": "code",
   "execution_count": 34,
   "id": "89cc0c01",
   "metadata": {},
   "outputs": [],
   "source": [
    "wml_credentials = {\n",
    "    \"apikey\": \"xSqONJn72levvEh-YuFFrQ2LigfQBkIwHkGpwJSvS7ZL\",\n",
    "    \"url\": 'https://us-south.ml.cloud.ibm.com'\n",
    "}\n",
    "\n",
    "client = APIClient(wml_credentials)"
   ]
  },
  {
   "cell_type": "markdown",
   "id": "e3da7616",
   "metadata": {},
   "source": [
    "We also need to create a deployment space to store and manage our instances. To be more specific, deployment spaces contain deployable assets, deployments, deployment jobs, associated input and output data, and the associated environments. You can use spaces to deploy models and manage your deployments. We can access the deployment space through either the user interface, or REST APIs. \n",
    "\n",
    "Again we are using a pre-established deployment space for the purpose of this tutorial. First we need to get the ID of our deployment space."
   ]
  },
  {
   "cell_type": "code",
   "execution_count": 35,
   "id": "36612c72",
   "metadata": {},
   "outputs": [
    {
     "name": "stdout",
     "output_type": "stream",
     "text": [
      "------------------------------------  --------------------  ------------------------\n",
      "ID                                    NAME                  CREATED\n",
      "849ff240-61ae-4d5a-98c4-af28ad2ed5dd  PDS-Deployment-Space  2022-04-06T20:11:22.562Z\n",
      "------------------------------------  --------------------  ------------------------\n"
     ]
    }
   ],
   "source": [
    "client.spaces.list(limit=10)"
   ]
  },
  {
   "cell_type": "markdown",
   "id": "0db8eecf",
   "metadata": {},
   "source": [
    "We will set our client to use the above deployment space with the ID we obtained from above. "
   ]
  },
  {
   "cell_type": "code",
   "execution_count": 36,
   "id": "0ce96488",
   "metadata": {},
   "outputs": [
    {
     "data": {
      "text/plain": [
       "'SUCCESS'"
      ]
     },
     "execution_count": 36,
     "metadata": {},
     "output_type": "execute_result"
    }
   ],
   "source": [
    "client.set.default_space(\"849ff240-61ae-4d5a-98c4-af28ad2ed5dd\")"
   ]
  },
  {
   "cell_type": "markdown",
   "id": "3c832729",
   "metadata": {},
   "source": [
    "# Explore dataset \n",
    "\n",
    "As the first step we will load the data from the scikit-learn sample dataset and perform basic exploratory data analysis. "
   ]
  },
  {
   "cell_type": "code",
   "execution_count": 37,
   "id": "37204a8c",
   "metadata": {},
   "outputs": [],
   "source": [
    "digits = datasets.load_digits()"
   ]
  },
  {
   "cell_type": "markdown",
   "id": "ef7e8efd",
   "metadata": {},
   "source": [
    "Let's take a look at the first row of the dataset, using data and target."
   ]
  },
  {
   "cell_type": "code",
   "execution_count": 38,
   "id": "6319fa16",
   "metadata": {},
   "outputs": [
    {
     "data": {
      "text/plain": [
       "array([[ 0.,  0.,  5., 13.,  9.,  1.,  0.,  0.],\n",
       "       [ 0.,  0., 13., 15., 10., 15.,  5.,  0.],\n",
       "       [ 0.,  3., 15.,  2.,  0., 11.,  8.,  0.],\n",
       "       [ 0.,  4., 12.,  0.,  0.,  8.,  8.,  0.],\n",
       "       [ 0.,  5.,  8.,  0.,  0.,  9.,  8.,  0.],\n",
       "       [ 0.,  4., 11.,  0.,  1., 12.,  7.,  0.],\n",
       "       [ 0.,  2., 14.,  5., 10., 12.,  0.,  0.],\n",
       "       [ 0.,  0.,  6., 13., 10.,  0.,  0.,  0.]])"
      ]
     },
     "execution_count": 38,
     "metadata": {},
     "output_type": "execute_result"
    }
   ],
   "source": [
    "digits.data[0].reshape((8, 8))\n"
   ]
  },
  {
   "cell_type": "code",
   "execution_count": 39,
   "id": "883c7064",
   "metadata": {},
   "outputs": [
    {
     "data": {
      "text/plain": [
       "0"
      ]
     },
     "execution_count": 39,
     "metadata": {},
     "output_type": "execute_result"
    }
   ],
   "source": [
    "digits.target[0]"
   ]
  },
  {
   "cell_type": "markdown",
   "id": "d5f77ac9",
   "metadata": {},
   "source": [
    "We would also like to know the size of the dataset."
   ]
  },
  {
   "cell_type": "code",
   "execution_count": 40,
   "id": "fe3bc368",
   "metadata": {},
   "outputs": [
    {
     "data": {
      "text/plain": [
       "1797"
      ]
     },
     "execution_count": 40,
     "metadata": {},
     "output_type": "execute_result"
    }
   ],
   "source": [
    "samples_count = len(digits.images)\n",
    "samples_count"
   ]
  },
  {
   "cell_type": "markdown",
   "id": "abd6fe7e",
   "metadata": {},
   "source": [
    "# Create scikit-learn model\n",
    "\n",
    "## Prepare datasets\n",
    "\n",
    "First we need to split our data into 3 sets: train, validation, test. We first divide the dataset into 90% training set and 10% testing set, then further divide training set into 20% validation set and 80% training set. "
   ]
  },
  {
   "cell_type": "code",
   "execution_count": 41,
   "id": "8825c98a",
   "metadata": {},
   "outputs": [],
   "source": [
    "train_data = digits.data[: int(0.72*samples_count)]\n",
    "train_labels = digits.target[: int(0.72*samples_count)]\n",
    "vali_data = digits.data[int(0.72*samples_count): int(0.9*samples_count)]\n",
    "vali_labels = digits.target[int(0.72*samples_count): int(0.9*samples_count)]\n",
    "test_data = digits.data[int(0.9*samples_count): ]"
   ]
  },
  {
   "cell_type": "markdown",
   "id": "70d5637b",
   "metadata": {},
   "source": [
    "## Training model\n",
    "\n",
    "We will train our model using scikit-learn packages. We will setup a pipeline that includes a transformer and an estimator\n",
    "- 1) clean and preprocess the datasets; \n",
    "- 2) define an estimator\n",
    "\n",
    "We will use the standard scaler as our processor as shown in class examples. We will use scikit-learn's pre-defined Naive Bayes classifier."
   ]
  },
  {
   "cell_type": "code",
   "execution_count": 45,
   "id": "da589ba9",
   "metadata": {},
   "outputs": [
    {
     "data": {
      "text/plain": [
       "GaussianNB()"
      ]
     },
     "execution_count": 45,
     "metadata": {},
     "output_type": "execute_result"
    }
   ],
   "source": [
    "model = GaussianNB()\n",
    "model.fit(train_data, train_labels)"
   ]
  },
  {
   "cell_type": "markdown",
   "id": "7ffa437a",
   "metadata": {},
   "source": [
    "## Validate model quality\n",
    "\n",
    "We will evaluate our model's quality with our validation set. The metrics we will use for evaluation also comes from scikit-learn. The metrics package has a classification report that generates several important metrics for evaluating the model's precision, including f1-score (combined metrics for precision and recall), support (number of actual occurrences of the class in the dataset), accuracy, macro avg (averaging the unweighted mean per label), and weighted avg. "
   ]
  },
  {
   "cell_type": "code",
   "execution_count": 46,
   "id": "afe4fc82",
   "metadata": {},
   "outputs": [
    {
     "name": "stdout",
     "output_type": "stream",
     "text": [
      "Evaluation report: \n",
      "\n",
      "              precision    recall  f1-score   support\n",
      "\n",
      "           0       0.94      0.97      0.96        34\n",
      "           1       0.69      0.75      0.72        32\n",
      "           2       1.00      0.78      0.88        32\n",
      "           3       0.96      0.82      0.89        33\n",
      "           4       0.97      0.90      0.93        31\n",
      "           5       0.91      0.94      0.93        33\n",
      "           6       0.97      0.97      0.97        34\n",
      "           7       0.71      0.84      0.77        32\n",
      "           8       0.72      0.77      0.74        30\n",
      "           9       0.74      0.76      0.75        33\n",
      "\n",
      "    accuracy                           0.85       324\n",
      "   macro avg       0.86      0.85      0.85       324\n",
      "weighted avg       0.86      0.85      0.85       324\n",
      "\n"
     ]
    }
   ],
   "source": [
    "predicted = model.predict(vali_data)\n",
    "print(\"Evaluation report: \\n\\n%s\" % metrics.classification_report(vali_labels, predicted))"
   ]
  },
  {
   "cell_type": "markdown",
   "id": "320549fb",
   "metadata": {},
   "source": [
    "We can also tune our model based on this report for better accuracy or for specific trade-offs. However we will exclude the model tuning section in this tutorial. "
   ]
  },
  {
   "cell_type": "markdown",
   "id": "dd018a70",
   "metadata": {},
   "source": [
    "# Deploying model \n",
    "\n",
    "Now we have trained our model locally, we will store the model in the Watson Machine Learning repository by using the IBM Watson Machine Learning SDK.\n",
    "\n",
    "## Persist the local model\n",
    "\n",
    "First we publish our model in the Watson Machine Learning repository on Cloud. `store_model` takes a model, metadata (provides more context to the instance in the store space), and train dataset and label. "
   ]
  },
  {
   "cell_type": "code",
   "execution_count": 47,
   "id": "0264a4ec",
   "metadata": {},
   "outputs": [
    {
     "name": "stdout",
     "output_type": "stream",
     "text": [
      "Note: Warnings!! :  Software specification default_py3.8 specified for the wml_model is deprecated and will be removed in the future. We recommend you use runtime-22.1-py3.9 instead. For details see Supported Frameworks https://dataplatform.cloud.ibm.com/docs/content/wsj/analyze-data/pm_service_supported_frameworks.html\n"
     ]
    }
   ],
   "source": [
    "sofware_spec_uid = client.software_specifications.get_id_by_name(\"default_py3.8\")\n",
    "\n",
    "metadata = {\n",
    "    client.repository.ModelMetaNames.NAME: 'Scikit model',\n",
    "    client.repository.ModelMetaNames.TYPE: 'scikit-learn_0.23',\n",
    "    client.repository.ModelMetaNames.SOFTWARE_SPEC_UID: sofware_spec_uid\n",
    "}\n",
    "\n",
    "published_model = client.repository.store_model(\n",
    "    model=model,\n",
    "    meta_props=metadata,\n",
    "    training_data=train_data,\n",
    "    training_target=train_labels)"
   ]
  },
  {
   "cell_type": "markdown",
   "id": "fd637244",
   "metadata": {},
   "source": [
    "With the model uploaded in Cloud, we can try to retrieve data and details about the model from our storing space. You can scroll through the json output file, and you will see our defined metadata appears somewhere in the json file.  "
   ]
  },
  {
   "cell_type": "code",
   "execution_count": 48,
   "id": "b505e917",
   "metadata": {},
   "outputs": [
    {
     "name": "stdout",
     "output_type": "stream",
     "text": [
      "{\n",
      "  \"entity\": {\n",
      "    \"hybrid_pipeline_software_specs\": [],\n",
      "    \"label_column\": \"l1\",\n",
      "    \"software_spec\": {\n",
      "      \"id\": \"ab9e1b80-f2ce-592c-a7d2-4f2344f77194\",\n",
      "      \"name\": \"default_py3.8\"\n",
      "    },\n",
      "    \"training_data_references\": [\n",
      "      {\n",
      "        \"connection\": {\n",
      "          \"access_key_id\": \"not_applicable\",\n",
      "          \"endpoint_url\": \"not_applicable\",\n",
      "          \"secret_access_key\": \"not_applicable\"\n",
      "        },\n",
      "        \"id\": \"1\",\n",
      "        \"location\": {},\n",
      "        \"schema\": {\n",
      "          \"fields\": [\n",
      "            {\n",
      "              \"name\": \"f0\",\n",
      "              \"type\": \"float\"\n",
      "            },\n",
      "            {\n",
      "              \"name\": \"f1\",\n",
      "              \"type\": \"float\"\n",
      "            },\n",
      "            {\n",
      "              \"name\": \"f2\",\n",
      "              \"type\": \"float\"\n",
      "            },\n",
      "            {\n",
      "              \"name\": \"f3\",\n",
      "              \"type\": \"float\"\n",
      "            },\n",
      "            {\n",
      "              \"name\": \"f4\",\n",
      "              \"type\": \"float\"\n",
      "            },\n",
      "            {\n",
      "              \"name\": \"f5\",\n",
      "              \"type\": \"float\"\n",
      "            },\n",
      "            {\n",
      "              \"name\": \"f6\",\n",
      "              \"type\": \"float\"\n",
      "            },\n",
      "            {\n",
      "              \"name\": \"f7\",\n",
      "              \"type\": \"float\"\n",
      "            },\n",
      "            {\n",
      "              \"name\": \"f8\",\n",
      "              \"type\": \"float\"\n",
      "            },\n",
      "            {\n",
      "              \"name\": \"f9\",\n",
      "              \"type\": \"float\"\n",
      "            },\n",
      "            {\n",
      "              \"name\": \"f10\",\n",
      "              \"type\": \"float\"\n",
      "            },\n",
      "            {\n",
      "              \"name\": \"f11\",\n",
      "              \"type\": \"float\"\n",
      "            },\n",
      "            {\n",
      "              \"name\": \"f12\",\n",
      "              \"type\": \"float\"\n",
      "            },\n",
      "            {\n",
      "              \"name\": \"f13\",\n",
      "              \"type\": \"float\"\n",
      "            },\n",
      "            {\n",
      "              \"name\": \"f14\",\n",
      "              \"type\": \"float\"\n",
      "            },\n",
      "            {\n",
      "              \"name\": \"f15\",\n",
      "              \"type\": \"float\"\n",
      "            },\n",
      "            {\n",
      "              \"name\": \"f16\",\n",
      "              \"type\": \"float\"\n",
      "            },\n",
      "            {\n",
      "              \"name\": \"f17\",\n",
      "              \"type\": \"float\"\n",
      "            },\n",
      "            {\n",
      "              \"name\": \"f18\",\n",
      "              \"type\": \"float\"\n",
      "            },\n",
      "            {\n",
      "              \"name\": \"f19\",\n",
      "              \"type\": \"float\"\n",
      "            },\n",
      "            {\n",
      "              \"name\": \"f20\",\n",
      "              \"type\": \"float\"\n",
      "            },\n",
      "            {\n",
      "              \"name\": \"f21\",\n",
      "              \"type\": \"float\"\n",
      "            },\n",
      "            {\n",
      "              \"name\": \"f22\",\n",
      "              \"type\": \"float\"\n",
      "            },\n",
      "            {\n",
      "              \"name\": \"f23\",\n",
      "              \"type\": \"float\"\n",
      "            },\n",
      "            {\n",
      "              \"name\": \"f24\",\n",
      "              \"type\": \"float\"\n",
      "            },\n",
      "            {\n",
      "              \"name\": \"f25\",\n",
      "              \"type\": \"float\"\n",
      "            },\n",
      "            {\n",
      "              \"name\": \"f26\",\n",
      "              \"type\": \"float\"\n",
      "            },\n",
      "            {\n",
      "              \"name\": \"f27\",\n",
      "              \"type\": \"float\"\n",
      "            },\n",
      "            {\n",
      "              \"name\": \"f28\",\n",
      "              \"type\": \"float\"\n",
      "            },\n",
      "            {\n",
      "              \"name\": \"f29\",\n",
      "              \"type\": \"float\"\n",
      "            },\n",
      "            {\n",
      "              \"name\": \"f30\",\n",
      "              \"type\": \"float\"\n",
      "            },\n",
      "            {\n",
      "              \"name\": \"f31\",\n",
      "              \"type\": \"float\"\n",
      "            },\n",
      "            {\n",
      "              \"name\": \"f32\",\n",
      "              \"type\": \"float\"\n",
      "            },\n",
      "            {\n",
      "              \"name\": \"f33\",\n",
      "              \"type\": \"float\"\n",
      "            },\n",
      "            {\n",
      "              \"name\": \"f34\",\n",
      "              \"type\": \"float\"\n",
      "            },\n",
      "            {\n",
      "              \"name\": \"f35\",\n",
      "              \"type\": \"float\"\n",
      "            },\n",
      "            {\n",
      "              \"name\": \"f36\",\n",
      "              \"type\": \"float\"\n",
      "            },\n",
      "            {\n",
      "              \"name\": \"f37\",\n",
      "              \"type\": \"float\"\n",
      "            },\n",
      "            {\n",
      "              \"name\": \"f38\",\n",
      "              \"type\": \"float\"\n",
      "            },\n",
      "            {\n",
      "              \"name\": \"f39\",\n",
      "              \"type\": \"float\"\n",
      "            },\n",
      "            {\n",
      "              \"name\": \"f40\",\n",
      "              \"type\": \"float\"\n",
      "            },\n",
      "            {\n",
      "              \"name\": \"f41\",\n",
      "              \"type\": \"float\"\n",
      "            },\n",
      "            {\n",
      "              \"name\": \"f42\",\n",
      "              \"type\": \"float\"\n",
      "            },\n",
      "            {\n",
      "              \"name\": \"f43\",\n",
      "              \"type\": \"float\"\n",
      "            },\n",
      "            {\n",
      "              \"name\": \"f44\",\n",
      "              \"type\": \"float\"\n",
      "            },\n",
      "            {\n",
      "              \"name\": \"f45\",\n",
      "              \"type\": \"float\"\n",
      "            },\n",
      "            {\n",
      "              \"name\": \"f46\",\n",
      "              \"type\": \"float\"\n",
      "            },\n",
      "            {\n",
      "              \"name\": \"f47\",\n",
      "              \"type\": \"float\"\n",
      "            },\n",
      "            {\n",
      "              \"name\": \"f48\",\n",
      "              \"type\": \"float\"\n",
      "            },\n",
      "            {\n",
      "              \"name\": \"f49\",\n",
      "              \"type\": \"float\"\n",
      "            },\n",
      "            {\n",
      "              \"name\": \"f50\",\n",
      "              \"type\": \"float\"\n",
      "            },\n",
      "            {\n",
      "              \"name\": \"f51\",\n",
      "              \"type\": \"float\"\n",
      "            },\n",
      "            {\n",
      "              \"name\": \"f52\",\n",
      "              \"type\": \"float\"\n",
      "            },\n",
      "            {\n",
      "              \"name\": \"f53\",\n",
      "              \"type\": \"float\"\n",
      "            },\n",
      "            {\n",
      "              \"name\": \"f54\",\n",
      "              \"type\": \"float\"\n",
      "            },\n",
      "            {\n",
      "              \"name\": \"f55\",\n",
      "              \"type\": \"float\"\n",
      "            },\n",
      "            {\n",
      "              \"name\": \"f56\",\n",
      "              \"type\": \"float\"\n",
      "            },\n",
      "            {\n",
      "              \"name\": \"f57\",\n",
      "              \"type\": \"float\"\n",
      "            },\n",
      "            {\n",
      "              \"name\": \"f58\",\n",
      "              \"type\": \"float\"\n",
      "            },\n",
      "            {\n",
      "              \"name\": \"f59\",\n",
      "              \"type\": \"float\"\n",
      "            },\n",
      "            {\n",
      "              \"name\": \"f60\",\n",
      "              \"type\": \"float\"\n",
      "            },\n",
      "            {\n",
      "              \"name\": \"f61\",\n",
      "              \"type\": \"float\"\n",
      "            },\n",
      "            {\n",
      "              \"name\": \"f62\",\n",
      "              \"type\": \"float\"\n",
      "            },\n",
      "            {\n",
      "              \"name\": \"f63\",\n",
      "              \"type\": \"float\"\n",
      "            }\n",
      "          ],\n",
      "          \"id\": \"1\",\n",
      "          \"type\": \"ndarray\"\n",
      "        },\n",
      "        \"type\": \"s3\"\n",
      "      }\n",
      "    ],\n",
      "    \"type\": \"scikit-learn_0.23\"\n",
      "  },\n",
      "  \"metadata\": {\n",
      "    \"created_at\": \"2022-04-07T00:50:13.209Z\",\n",
      "    \"id\": \"750f5f3e-cec3-4305-b191-aebd47b0e664\",\n",
      "    \"modified_at\": \"2022-04-07T00:50:16.949Z\",\n",
      "    \"name\": \"Scikit model\",\n",
      "    \"owner\": \"IBMid-663003G1H5\",\n",
      "    \"resource_key\": \"eea88717-3e66-4e8c-acd4-0744938c6120\",\n",
      "    \"space_id\": \"849ff240-61ae-4d5a-98c4-af28ad2ed5dd\"\n",
      "  },\n",
      "  \"system\": {\n",
      "    \"warnings\": [\n",
      "      {\n",
      "        \"message\": \"Software specification default_py3.8 specified for the wml_model is deprecated and will be removed in the future. We recommend you use runtime-22.1-py3.9 instead. For details see Supported Frameworks https://dataplatform.cloud.ibm.com/docs/content/wsj/analyze-data/pm_service_supported_frameworks.html\"\n",
      "      }\n",
      "    ]\n",
      "  }\n",
      "}\n"
     ]
    }
   ],
   "source": [
    "published_model_id = client.repository.get_model_id(published_model)\n",
    "model_details = client.repository.get_details(published_model_id)\n",
    "print(json.dumps(model_details, indent=2))"
   ]
  },
  {
   "cell_type": "markdown",
   "id": "1bed467f",
   "metadata": {},
   "source": [
    "Now lets try to get all the models stored in the space. "
   ]
  },
  {
   "cell_type": "code",
   "execution_count": 49,
   "id": "72099547",
   "metadata": {},
   "outputs": [
    {
     "name": "stdout",
     "output_type": "stream",
     "text": [
      "------------------------------------  ------------  ------------------------  -----------------\n",
      "ID                                    NAME          CREATED                   TYPE\n",
      "750f5f3e-cec3-4305-b191-aebd47b0e664  Scikit model  2022-04-07T00:50:13.002Z  scikit-learn_0.23\n",
      "10c602d9-693e-47f6-b921-862d0cd927dc  Scikit model  2022-04-06T23:21:11.002Z  scikit-learn_0.23\n",
      "4278f933-e53b-4036-bf79-d71bca9d0b4c  Scikit model  2022-04-06T23:13:13.002Z  scikit-learn_0.23\n",
      "------------------------------------  ------------  ------------------------  -----------------\n"
     ]
    }
   ],
   "source": [
    "models_details = client.repository.list_models()"
   ]
  },
  {
   "cell_type": "markdown",
   "id": "69ef0806",
   "metadata": {},
   "source": [
    "## Deploy and score\n",
    "\n",
    "Finally we are ready to deploy our model. In this section we will create online predicting and predict a new data record using the IBM Watson Machine Learning SDK.\n",
    "\n",
    "We will start off by creating an online deployment for the published model. "
   ]
  },
  {
   "cell_type": "code",
   "execution_count": 50,
   "id": "2e1434f1",
   "metadata": {},
   "outputs": [
    {
     "name": "stdout",
     "output_type": "stream",
     "text": [
      "\n",
      "\n",
      "#######################################################################################\n",
      "\n",
      "Synchronous deployment creation for uid: '750f5f3e-cec3-4305-b191-aebd47b0e664' started\n",
      "\n",
      "#######################################################################################\n",
      "\n",
      "\n",
      "initializing\n",
      "Note: Software specification default_py3.8 is deprecated. Use runtime-22.1-py3.9 software specification instead. For details, see https://dataplatform.cloud.ibm.com/docs/content/wsj/wmls/wmls-deploy-python-types.html?context=cpdaas.\n",
      "\n",
      "ready\n",
      "\n",
      "\n",
      "------------------------------------------------------------------------------------------------\n",
      "Successfully finished deployment creation, deployment_uid='73f183b2-42fe-4b0e-b118-ae225f1c1e52'\n",
      "------------------------------------------------------------------------------------------------\n",
      "\n",
      "\n"
     ]
    }
   ],
   "source": [
    "metadata = {\n",
    "    client.deployments.ConfigurationMetaNames.NAME: \"Deployment of scikit model\",\n",
    "    client.deployments.ConfigurationMetaNames.ONLINE: {}\n",
    "}\n",
    "\n",
    "created_deployment = client.deployments.create(published_model_id, meta_props=metadata)"
   ]
  },
  {
   "cell_type": "markdown",
   "id": "4845e82e",
   "metadata": {},
   "source": [
    "Here we use the deployment url saved in the `published_model` object. In the next section, we retrieve the deployment url from the Watson Machine Learning instance."
   ]
  },
  {
   "cell_type": "code",
   "execution_count": 51,
   "id": "44e5672d",
   "metadata": {},
   "outputs": [],
   "source": [
    "deployment_uid = client.deployments.get_uid(created_deployment)"
   ]
  },
  {
   "cell_type": "markdown",
   "id": "c13f0fd6",
   "metadata": {},
   "source": [
    "Now we print the online scoring endpoint. "
   ]
  },
  {
   "cell_type": "code",
   "execution_count": 55,
   "id": "af9f3f8e",
   "metadata": {},
   "outputs": [
    {
     "name": "stdout",
     "output_type": "stream",
     "text": [
      "https://us-south.ml.cloud.ibm.com/ml/v4/deployments/73f183b2-42fe-4b0e-b118-ae225f1c1e52/predictions\n"
     ]
    }
   ],
   "source": [
    "endpoint = client.deployments.get_scoring_href(created_deployment)\n",
    "print(endpoint)"
   ]
  },
  {
   "cell_type": "markdown",
   "id": "62856e1e",
   "metadata": {},
   "source": [
    "We can also list all existing deployments and get deployment details."
   ]
  },
  {
   "cell_type": "code",
   "execution_count": 56,
   "id": "512f6929",
   "metadata": {},
   "outputs": [
    {
     "name": "stdout",
     "output_type": "stream",
     "text": [
      "------------------------------------  --------------------------  -----  ------------------------\n",
      "GUID                                  NAME                        STATE  CREATED\n",
      "73f183b2-42fe-4b0e-b118-ae225f1c1e52  Deployment of scikit model  ready  2022-04-07T00:50:36.300Z\n",
      "------------------------------------  --------------------------  -----  ------------------------\n"
     ]
    }
   ],
   "source": [
    "client.deployments.list()"
   ]
  },
  {
   "cell_type": "code",
   "execution_count": 57,
   "id": "79c45395",
   "metadata": {},
   "outputs": [
    {
     "name": "stdout",
     "output_type": "stream",
     "text": [
      "Note: Software specification default_py3.8 is deprecated. Use runtime-22.1-py3.9 software specification instead. For details, see https://dataplatform.cloud.ibm.com/docs/content/wsj/wmls/wmls-deploy-python-types.html?context=cpdaas.\n"
     ]
    },
    {
     "data": {
      "text/plain": [
       "{'entity': {'asset': {'id': '750f5f3e-cec3-4305-b191-aebd47b0e664'},\n",
       "  'custom': {},\n",
       "  'deployed_asset_type': 'model',\n",
       "  'hardware_spec': {'id': 'e7ed1d6c-2e89-42d7-aed5-863b972c1d2b',\n",
       "   'name': 'S',\n",
       "   'num_nodes': 1},\n",
       "  'name': 'Deployment of scikit model',\n",
       "  'online': {},\n",
       "  'space_id': '849ff240-61ae-4d5a-98c4-af28ad2ed5dd',\n",
       "  'status': {'online_url': {'url': 'https://us-south.ml.cloud.ibm.com/ml/v4/deployments/73f183b2-42fe-4b0e-b118-ae225f1c1e52/predictions'},\n",
       "   'serving_urls': ['https://us-south.ml.cloud.ibm.com/ml/v4/deployments/73f183b2-42fe-4b0e-b118-ae225f1c1e52/predictions'],\n",
       "   'state': 'ready'}},\n",
       " 'metadata': {'created_at': '2022-04-07T00:50:36.300Z',\n",
       "  'id': '73f183b2-42fe-4b0e-b118-ae225f1c1e52',\n",
       "  'modified_at': '2022-04-07T00:50:36.300Z',\n",
       "  'name': 'Deployment of scikit model',\n",
       "  'owner': 'IBMid-663003G1H5',\n",
       "  'space_id': '849ff240-61ae-4d5a-98c4-af28ad2ed5dd'},\n",
       " 'system': {'warnings': [{'id': 'Deprecated',\n",
       "    'message': 'Software specification default_py3.8 is deprecated. Use runtime-22.1-py3.9 software specification instead. For details, see https://dataplatform.cloud.ibm.com/docs/content/wsj/wmls/wmls-deploy-python-types.html?context=cpdaas.'},\n",
       "   {'id': 'Deprecated',\n",
       "    'message': 'online_url is deprecated and will be removed in a future release. Use serving_urls instead.'}]}}"
      ]
     },
     "execution_count": 57,
     "metadata": {},
     "output_type": "execute_result"
    }
   ],
   "source": [
    "client.deployments.get_details(deployment_uid)"
   ]
  },
  {
   "cell_type": "markdown",
   "id": "d0057356",
   "metadata": {},
   "source": [
    "We can use the following method to perform a test prediction against the deployed model."
   ]
  },
  {
   "cell_type": "code",
   "execution_count": 58,
   "id": "bcc4368b",
   "metadata": {},
   "outputs": [
    {
     "data": {
      "text/plain": [
       "{'predictions': [{'fields': ['prediction', 'probability'],\n",
       "   'values': [[1,\n",
       "     [0.0,\n",
       "      0.9999801928897586,\n",
       "      1.747353420552863e-24,\n",
       "      1.5290467883620225e-25,\n",
       "      2.0314705060312653e-20,\n",
       "      1.6740980396227345e-05,\n",
       "      2.7399648472432136e-20,\n",
       "      2.146632436324533e-31,\n",
       "      3.066129844528332e-06,\n",
       "      7.749851268684119e-26]],\n",
       "    [9,\n",
       "     [0.0, 0.0, 0.0, 0.0, 0.0, 0.0, 1.0804329725294796e-43, 0.0, 0.0, 1.0]]]}]}"
      ]
     },
     "execution_count": 58,
     "metadata": {},
     "output_type": "execute_result"
    }
   ],
   "source": [
    "test_0 = list(test_data[0])\n",
    "test_1 = list(test_data[1])\n",
    "payload = {\"input_data\": [{\"values\": [test_0, test_1]}]}\n",
    "predictions = client.deployments.score(deployment_uid, payload)\n",
    "predictions"
   ]
  },
  {
   "cell_type": "markdown",
   "id": "f7fe6021",
   "metadata": {},
   "source": [
    "# Clean up\n",
    "\n",
    "To clean all the created instances, run the following command. "
   ]
  },
  {
   "cell_type": "code",
   "execution_count": 59,
   "id": "7f870231",
   "metadata": {},
   "outputs": [],
   "source": [
    "deployments_details = client.deployments.get_details()\n",
    "for deployment in deployments_details['resources']:\n",
    "    client.deployments.delete(deployment['metadata']['id'])"
   ]
  },
  {
   "cell_type": "markdown",
   "id": "19753524",
   "metadata": {},
   "source": [
    "Now we can check our deployment list again to make sure we deleted all our deployed instances. "
   ]
  },
  {
   "cell_type": "code",
   "execution_count": 60,
   "id": "b210b87a",
   "metadata": {},
   "outputs": [
    {
     "name": "stdout",
     "output_type": "stream",
     "text": [
      "----  ----  -----  -------\n",
      "GUID  NAME  STATE  CREATED\n",
      "----  ----  -----  -------\n"
     ]
    }
   ],
   "source": [
    "client.deployments.list(limit=10)"
   ]
  },
  {
   "cell_type": "code",
   "execution_count": null,
   "id": "1d1526b3",
   "metadata": {},
   "outputs": [],
   "source": []
  }
 ],
 "metadata": {
  "kernelspec": {
   "display_name": "Python 3 (ipykernel)",
   "language": "python",
   "name": "python3"
  },
  "language_info": {
   "codemirror_mode": {
    "name": "ipython",
    "version": 3
   },
   "file_extension": ".py",
   "mimetype": "text/x-python",
   "name": "python",
   "nbconvert_exporter": "python",
   "pygments_lexer": "ipython3",
   "version": "3.9.7"
  }
 },
 "nbformat": 4,
 "nbformat_minor": 5
}
